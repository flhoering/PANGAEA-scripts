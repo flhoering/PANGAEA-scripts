{
 "cells": [
  {
   "cell_type": "code",
   "execution_count": 3,
   "id": "29de7186-1313-48be-b10a-937c1a3fc2bc",
   "metadata": {},
   "outputs": [
    {
     "name": "stdout",
     "output_type": "stream",
     "text": [
      "Requirement already satisfied: pandas in /home/edvs1/flhoerin/.conda/envs/conda_fh/lib/python3.12/site-packages (2.1.4)\n",
      "Requirement already satisfied: numpy<2,>=1.26.0 in /home/edvs1/flhoerin/.conda/envs/conda_fh/lib/python3.12/site-packages (from pandas) (1.26.4)\n",
      "Requirement already satisfied: python-dateutil>=2.8.2 in /home/edvs1/flhoerin/.conda/envs/conda_fh/lib/python3.12/site-packages (from pandas) (2.8.2)\n",
      "Requirement already satisfied: pytz>=2020.1 in /home/edvs1/flhoerin/.conda/envs/conda_fh/lib/python3.12/site-packages (from pandas) (2023.3.post1)\n",
      "Requirement already satisfied: tzdata>=2022.1 in /home/edvs1/flhoerin/.conda/envs/conda_fh/lib/python3.12/site-packages (from pandas) (2023.3)\n",
      "Requirement already satisfied: six>=1.5 in /home/edvs1/flhoerin/.conda/envs/conda_fh/lib/python3.12/site-packages (from python-dateutil>=2.8.2->pandas) (1.16.0)\n",
      "Requirement already satisfied: pangaeapy in /home/edvs1/flhoerin/.conda/envs/conda_fh/lib/python3.12/site-packages (1.0.19)\n",
      "Requirement already satisfied: cftime>=1.6.3 in /home/edvs1/flhoerin/.conda/envs/conda_fh/lib/python3.12/site-packages (from pangaeapy) (1.6.3)\n",
      "Requirement already satisfied: lxml>=4.9.3 in /home/edvs1/flhoerin/.conda/envs/conda_fh/lib/python3.12/site-packages (from pangaeapy) (5.2.1)\n",
      "Requirement already satisfied: netcdf4~=1.6.3 in /home/edvs1/flhoerin/.conda/envs/conda_fh/lib/python3.12/site-packages (from pangaeapy) (1.6.5)\n",
      "Requirement already satisfied: numpy>=1.24.4 in /home/edvs1/flhoerin/.conda/envs/conda_fh/lib/python3.12/site-packages (from pangaeapy) (1.26.4)\n",
      "Requirement already satisfied: pandas>=2.0.3 in /home/edvs1/flhoerin/.conda/envs/conda_fh/lib/python3.12/site-packages (from pangaeapy) (2.1.4)\n",
      "Requirement already satisfied: requests>=2.26.0 in /home/edvs1/flhoerin/.conda/envs/conda_fh/lib/python3.12/site-packages (from pangaeapy) (2.31.0)\n",
      "Requirement already satisfied: certifi in /home/edvs1/flhoerin/.conda/envs/conda_fh/lib/python3.12/site-packages (from netcdf4~=1.6.3->pangaeapy) (2024.2.2)\n",
      "Requirement already satisfied: python-dateutil>=2.8.2 in /home/edvs1/flhoerin/.conda/envs/conda_fh/lib/python3.12/site-packages (from pandas>=2.0.3->pangaeapy) (2.8.2)\n",
      "Requirement already satisfied: pytz>=2020.1 in /home/edvs1/flhoerin/.conda/envs/conda_fh/lib/python3.12/site-packages (from pandas>=2.0.3->pangaeapy) (2023.3.post1)\n",
      "Requirement already satisfied: tzdata>=2022.1 in /home/edvs1/flhoerin/.conda/envs/conda_fh/lib/python3.12/site-packages (from pandas>=2.0.3->pangaeapy) (2023.3)\n",
      "Requirement already satisfied: charset-normalizer<4,>=2 in /home/edvs1/flhoerin/.conda/envs/conda_fh/lib/python3.12/site-packages (from requests>=2.26.0->pangaeapy) (2.0.4)\n",
      "Requirement already satisfied: idna<4,>=2.5 in /home/edvs1/flhoerin/.conda/envs/conda_fh/lib/python3.12/site-packages (from requests>=2.26.0->pangaeapy) (3.4)\n",
      "Requirement already satisfied: urllib3<3,>=1.21.1 in /home/edvs1/flhoerin/.conda/envs/conda_fh/lib/python3.12/site-packages (from requests>=2.26.0->pangaeapy) (2.1.0)\n",
      "Requirement already satisfied: six>=1.5 in /home/edvs1/flhoerin/.conda/envs/conda_fh/lib/python3.12/site-packages (from python-dateutil>=2.8.2->pandas>=2.0.3->pangaeapy) (1.16.0)\n"
     ]
    }
   ],
   "source": [
    "#install missing packages\n",
    "!pip install pandas\n",
    "!pip install pangaeapy"
   ]
  },
  {
   "cell_type": "code",
   "execution_count": 4,
   "id": "e52a648b-9ac7-4bec-938c-1e512ad8f491",
   "metadata": {
    "tags": []
   },
   "outputs": [],
   "source": [
    "# import packages\n",
    "import pandas as pd\n",
    "import pangaeapy as pan\n",
    "from pangaeapy.pandataset import PanDataSet\n"
   ]
  },
  {
   "cell_type": "markdown",
   "id": "f51e7cd4-113f-4dd3-8720-ecf5006baafc",
   "metadata": {
    "tags": []
   },
   "source": [
    "### Search for dataset list of specific project"
   ]
  },
  {
   "cell_type": "code",
   "execution_count": 5,
   "id": "f2a6a3ca-daac-498b-b18c-69b6ed26e6fb",
   "metadata": {
    "tags": []
   },
   "outputs": [],
   "source": [
    "query = pan.PanQuery(\"project:label:CDRmare\", limit=100)"
   ]
  },
  {
   "cell_type": "code",
   "execution_count": 6,
   "id": "70e7f398-52d8-4443-89fb-11ec3f9497b9",
   "metadata": {
    "tags": []
   },
   "outputs": [
    {
     "data": {
      "text/plain": [
       "30"
      ]
     },
     "execution_count": 6,
     "metadata": {},
     "output_type": "execute_result"
    }
   ],
   "source": [
    "query.totalcount"
   ]
  },
  {
   "cell_type": "code",
   "execution_count": 7,
   "id": "7e45b379-71c4-4519-beb7-2f1a431e0f7c",
   "metadata": {
    "tags": []
   },
   "outputs": [
    {
     "data": {
      "text/plain": [
       "'project:label:CDRmare'"
      ]
     },
     "execution_count": 7,
     "metadata": {},
     "output_type": "execute_result"
    }
   ],
   "source": [
    "query.query"
   ]
  },
  {
   "cell_type": "code",
   "execution_count": 8,
   "id": "f59bf2cd-1901-45fc-8da3-1334be9158d8",
   "metadata": {
    "tags": []
   },
   "outputs": [
    {
     "data": {
      "text/plain": [
       "{'URI': 'doi:10.1594/PANGAEA.964092',\n",
       " 'score': 6.32072,\n",
       " 'html': '<li><div class=\"citation\"><a href=\"https://doi.pangaea.de/10.1594/PANGAEA.964092\" target=\"_self\" class=\"dataset-link\"><strong>Esposito, M; Bach, W; Achterberg, EP (2023):</strong> Physical oceanography and hydrochemistry measurements along ROV-Squid dive M183_24-1 during METEOR cruise M183</a></div><table class=\"result\" summary=\"Dataset reference and size\" cellspacing=\"0\" cellpadding=\"0\"><tr><td class=\"title\">Related to:</td><td class=\"content\"><strong>Bach, W (2023):</strong> Master track of METEOR cruise M183 in 1 sec resolution (zipped, 12.2 MB). <em>University of Bremen</em></td></tr><tr><td class=\"title\">Size:</td><td class=\"content\">16562 data points</td></tr></table><div class=\"datasetid\"><a href=\"https://doi.pangaea.de/10.1594/PANGAEA.964092\" target=\"_self\" class=\"dataset-link doi-link\">https://doi.org/10.1594/PANGAEA.964092</a> – <span title=\"The score is a measurement of relevancy (see TF-IDF algorithm). The value is not absolute and only suitable to compare hits from the same result set.\">Score: 6.32</span></div></li>',\n",
       " 'type': 'member',\n",
       " 'position': 0}"
      ]
     },
     "execution_count": 8,
     "metadata": {},
     "output_type": "execute_result"
    }
   ],
   "source": [
    " #show first entry of query result (query.result = list of dictionaries)\n",
    "query.result[0]"
   ]
  },
  {
   "cell_type": "code",
   "execution_count": 9,
   "id": "bc8e3b22-4116-45df-bacb-d494e907e962",
   "metadata": {
    "tags": []
   },
   "outputs": [
    {
     "data": {
      "text/plain": [
       "dict_keys(['URI', 'score', 'html', 'type', 'position'])"
      ]
     },
     "execution_count": 9,
     "metadata": {},
     "output_type": "execute_result"
    }
   ],
   "source": [
    "query.result[0].keys() "
   ]
  },
  {
   "cell_type": "code",
   "execution_count": 10,
   "id": "67043c1e-dd59-4d80-af78-eb23fb57726f",
   "metadata": {
    "tags": []
   },
   "outputs": [],
   "source": [
    "# get a list of URIs for the query result\n",
    "l_dois = [d.get('URI') for d in query.result]"
   ]
  },
  {
   "cell_type": "code",
   "execution_count": 11,
   "id": "b232b6fc-e712-48ba-8323-e463de88fc4b",
   "metadata": {
    "tags": []
   },
   "outputs": [
    {
     "data": {
      "text/plain": [
       "['doi:10.1594/PANGAEA.964092',\n",
       " 'doi:10.1594/PANGAEA.964072',\n",
       " 'doi:10.1594/PANGAEA.964096',\n",
       " 'doi:10.1594/PANGAEA.964090',\n",
       " 'doi:10.1594/PANGAEA.964089',\n",
       " 'doi:10.1594/PANGAEA.964095',\n",
       " 'doi:10.1594/PANGAEA.964076',\n",
       " 'doi:10.1594/PANGAEA.964078',\n",
       " 'doi:10.1594/PANGAEA.964094',\n",
       " 'doi:10.1594/PANGAEA.964097',\n",
       " 'doi:10.1594/PANGAEA.964086',\n",
       " 'doi:10.1594/PANGAEA.964083',\n",
       " 'doi:10.1594/PANGAEA.964093',\n",
       " 'doi:10.1594/PANGAEA.964091',\n",
       " 'doi:10.1594/PANGAEA.964069',\n",
       " 'doi:10.1594/PANGAEA.963428',\n",
       " 'doi:10.1594/PANGAEA.963781',\n",
       " 'doi:10.1594/PANGAEA.951200',\n",
       " 'doi:10.1594/PANGAEA.963467',\n",
       " 'doi:10.1594/PANGAEA.963462',\n",
       " 'doi:10.1594/PANGAEA.954527',\n",
       " 'doi:10.1594/PANGAEA.956371',\n",
       " 'doi:10.1594/PANGAEA.954852',\n",
       " 'doi:10.1594/PANGAEA.963541',\n",
       " 'doi:10.1594/PANGAEA.963589',\n",
       " 'doi:10.1594/PANGAEA.954531',\n",
       " 'doi:10.1594/PANGAEA.962782',\n",
       " 'doi:10.1594/PANGAEA.951417',\n",
       " 'doi:10.1594/PANGAEA.963468',\n",
       " 'doi:10.1594/PANGAEA.963590']"
      ]
     },
     "execution_count": 11,
     "metadata": {},
     "output_type": "execute_result"
    }
   ],
   "source": [
    "l_dois"
   ]
  },
  {
   "cell_type": "code",
   "execution_count": 12,
   "id": "ee347438-62f7-4b61-aafc-bd9086612cd0",
   "metadata": {
    "tags": []
   },
   "outputs": [
    {
     "data": {
      "text/plain": [
       "30"
      ]
     },
     "execution_count": 12,
     "metadata": {},
     "output_type": "execute_result"
    }
   ],
   "source": [
    "len(l_dois) #length of the list"
   ]
  },
  {
   "cell_type": "markdown",
   "id": "49a54839-09a3-42b9-a3ae-6a34af2a511b",
   "metadata": {},
   "source": [
    "### Use case 1: Print a full list of dataset citations to a .txt file"
   ]
  },
  {
   "cell_type": "code",
   "execution_count": 13,
   "id": "814c37d1-48cb-4854-a7a5-3a2ddcfa5ce3",
   "metadata": {
    "tags": []
   },
   "outputs": [
    {
     "name": "stderr",
     "output_type": "stream",
     "text": [
      "Data set is protected - \n",
      "Dataset is either restricted or of type \"collection\" - https://doi.org/10.1594/PANGAEA.964086\n",
      "Data set is protected - \n",
      "Dataset is either restricted or of type \"collection\" - https://doi.org/10.1594/PANGAEA.963467\n",
      "Data set is protected - \n",
      "Dataset is either restricted or of type \"collection\" - https://doi.org/10.1594/PANGAEA.963462\n",
      "Data set is protected - \n",
      "Dataset is either restricted or of type \"collection\" - https://doi.org/10.1594/PANGAEA.963541\n",
      "Data set is protected - \n",
      "Dataset is either restricted or of type \"collection\" - https://doi.org/10.1594/PANGAEA.963589\n",
      "Data set is protected - \n",
      "Dataset is either restricted or of type \"collection\" - https://doi.org/10.1594/PANGAEA.963468\n",
      "Data set is protected - \n",
      "Dataset is either restricted or of type \"collection\" - https://doi.org/10.1594/PANGAEA.963590\n"
     ]
    }
   ],
   "source": [
    "# write all citations to a .txt file\n",
    "file=open(\"citations_CDRmare.txt\", \"w\")\n",
    "for doi in l_dois:\n",
    "    ds = PanDataSet(doi, include_data=False)\n",
    "    citation = ds.citation\n",
    "    #print(ds.citation)\n",
    "    file.write(citation + \"\\n\")\n",
    "file.close()"
   ]
  },
  {
   "cell_type": "markdown",
   "id": "acfae4c6-a84f-473b-a247-ea62854c1f3f",
   "metadata": {
    "tags": []
   },
   "source": [
    "### Use case 2: Extract the DOIs, Publication dates and the Project names in table format for further analysis"
   ]
  },
  {
   "cell_type": "code",
   "execution_count": 15,
   "id": "53a1847c-0639-43e7-9578-6a06ef6a4e4e",
   "metadata": {
    "tags": []
   },
   "outputs": [
    {
     "name": "stderr",
     "output_type": "stream",
     "text": [
      "Data set is protected - \n",
      "Dataset is either restricted or of type \"collection\" - https://doi.org/10.1594/PANGAEA.964086\n",
      "Data set is protected - \n",
      "Dataset is either restricted or of type \"collection\" - https://doi.org/10.1594/PANGAEA.963467\n",
      "Data set is protected - \n",
      "Dataset is either restricted or of type \"collection\" - https://doi.org/10.1594/PANGAEA.963462\n",
      "Data set is protected - \n",
      "Dataset is either restricted or of type \"collection\" - https://doi.org/10.1594/PANGAEA.963541\n",
      "Data set is protected - \n",
      "Dataset is either restricted or of type \"collection\" - https://doi.org/10.1594/PANGAEA.963589\n",
      "Data set is protected - \n",
      "Dataset is either restricted or of type \"collection\" - https://doi.org/10.1594/PANGAEA.963468\n",
      "Data set is protected - \n",
      "Dataset is either restricted or of type \"collection\" - https://doi.org/10.1594/PANGAEA.963590\n"
     ]
    },
    {
     "data": {
      "text/html": [
       "<div>\n",
       "<style scoped>\n",
       "    .dataframe tbody tr th:only-of-type {\n",
       "        vertical-align: middle;\n",
       "    }\n",
       "\n",
       "    .dataframe tbody tr th {\n",
       "        vertical-align: top;\n",
       "    }\n",
       "\n",
       "    .dataframe thead th {\n",
       "        text-align: right;\n",
       "    }\n",
       "</style>\n",
       "<table border=\"1\" class=\"dataframe\">\n",
       "  <thead>\n",
       "    <tr style=\"text-align: right;\">\n",
       "      <th></th>\n",
       "      <th>DOI</th>\n",
       "      <th>Publication_Date</th>\n",
       "      <th>Project</th>\n",
       "    </tr>\n",
       "  </thead>\n",
       "  <tbody>\n",
       "    <tr>\n",
       "      <th>0</th>\n",
       "      <td>doi:10.1594/PANGAEA.964092</td>\n",
       "      <td>2023-12-12T12:33:11</td>\n",
       "      <td>AIMS3, CDRmare</td>\n",
       "    </tr>\n",
       "    <tr>\n",
       "      <th>1</th>\n",
       "      <td>doi:10.1594/PANGAEA.964072</td>\n",
       "      <td>2023-12-11T13:54:47</td>\n",
       "      <td>AIMS3, CDRmare</td>\n",
       "    </tr>\n",
       "    <tr>\n",
       "      <th>2</th>\n",
       "      <td>doi:10.1594/PANGAEA.964096</td>\n",
       "      <td>2023-12-12T12:37:50</td>\n",
       "      <td>AIMS3, CDRmare</td>\n",
       "    </tr>\n",
       "    <tr>\n",
       "      <th>3</th>\n",
       "      <td>doi:10.1594/PANGAEA.964090</td>\n",
       "      <td>2023-12-12T12:30:50</td>\n",
       "      <td>AIMS3, CDRmare</td>\n",
       "    </tr>\n",
       "    <tr>\n",
       "      <th>4</th>\n",
       "      <td>doi:10.1594/PANGAEA.964089</td>\n",
       "      <td>2023-12-12T12:11:33</td>\n",
       "      <td>AIMS3, CDRmare</td>\n",
       "    </tr>\n",
       "    <tr>\n",
       "      <th>5</th>\n",
       "      <td>doi:10.1594/PANGAEA.964095</td>\n",
       "      <td>2023-12-12T12:36:45</td>\n",
       "      <td>AIMS3, CDRmare</td>\n",
       "    </tr>\n",
       "    <tr>\n",
       "      <th>6</th>\n",
       "      <td>doi:10.1594/PANGAEA.964076</td>\n",
       "      <td>2023-12-11T14:31:38</td>\n",
       "      <td>AIMS3, CDRmare</td>\n",
       "    </tr>\n",
       "    <tr>\n",
       "      <th>7</th>\n",
       "      <td>doi:10.1594/PANGAEA.964078</td>\n",
       "      <td>2023-12-11T15:04:08</td>\n",
       "      <td>AIMS3, CDRmare</td>\n",
       "    </tr>\n",
       "    <tr>\n",
       "      <th>8</th>\n",
       "      <td>doi:10.1594/PANGAEA.964094</td>\n",
       "      <td>2023-12-12T12:35:41</td>\n",
       "      <td>AIMS3, CDRmare</td>\n",
       "    </tr>\n",
       "    <tr>\n",
       "      <th>9</th>\n",
       "      <td>doi:10.1594/PANGAEA.964097</td>\n",
       "      <td>2023-12-12T12:38:47</td>\n",
       "      <td>AIMS3, CDRmare</td>\n",
       "    </tr>\n",
       "    <tr>\n",
       "      <th>10</th>\n",
       "      <td>doi:10.1594/PANGAEA.964086</td>\n",
       "      <td>2023-12-19T13:33:30</td>\n",
       "      <td>RETAKE, CDRmare</td>\n",
       "    </tr>\n",
       "    <tr>\n",
       "      <th>11</th>\n",
       "      <td>doi:10.1594/PANGAEA.964083</td>\n",
       "      <td>2023-12-12T07:44:05</td>\n",
       "      <td>AIMS3, CDRmare</td>\n",
       "    </tr>\n",
       "    <tr>\n",
       "      <th>12</th>\n",
       "      <td>doi:10.1594/PANGAEA.964093</td>\n",
       "      <td>2023-12-12T12:34:21</td>\n",
       "      <td>AIMS3, CDRmare</td>\n",
       "    </tr>\n",
       "    <tr>\n",
       "      <th>13</th>\n",
       "      <td>doi:10.1594/PANGAEA.964091</td>\n",
       "      <td>2023-12-12T12:32:06</td>\n",
       "      <td>AIMS3, CDRmare</td>\n",
       "    </tr>\n",
       "    <tr>\n",
       "      <th>14</th>\n",
       "      <td>doi:10.1594/PANGAEA.964069</td>\n",
       "      <td>2023-12-11T13:19:55</td>\n",
       "      <td>AIMS3, CDRmare</td>\n",
       "    </tr>\n",
       "    <tr>\n",
       "      <th>15</th>\n",
       "      <td>doi:10.1594/PANGAEA.963428</td>\n",
       "      <td>2023-11-24T12:52:17</td>\n",
       "      <td>Carbostore, RETAKE, AWI_PhyOce, CDRmare</td>\n",
       "    </tr>\n",
       "    <tr>\n",
       "      <th>16</th>\n",
       "      <td>doi:10.1594/PANGAEA.963781</td>\n",
       "      <td>2023-11-28T13:07:48</td>\n",
       "      <td>Test-ArtUp, AQUACOSM, Ocean-artUp, CDRmare</td>\n",
       "    </tr>\n",
       "    <tr>\n",
       "      <th>17</th>\n",
       "      <td>doi:10.1594/PANGAEA.951200</td>\n",
       "      <td>2022-11-22T14:36:29</td>\n",
       "      <td>Test-ArtUp, Ocean-artUp, CDRmare</td>\n",
       "    </tr>\n",
       "    <tr>\n",
       "      <th>18</th>\n",
       "      <td>doi:10.1594/PANGAEA.963467</td>\n",
       "      <td>2023-11-28T10:45:11</td>\n",
       "      <td>Test-ArtUp, AQUACOSM, Ocean-artUp, CDRmare</td>\n",
       "    </tr>\n",
       "    <tr>\n",
       "      <th>19</th>\n",
       "      <td>doi:10.1594/PANGAEA.963462</td>\n",
       "      <td>2023-11-28T16:39:30</td>\n",
       "      <td>Test-ArtUp, AQUACOSM, Ocean-artUp, CDRmare</td>\n",
       "    </tr>\n",
       "    <tr>\n",
       "      <th>20</th>\n",
       "      <td>doi:10.1594/PANGAEA.954527</td>\n",
       "      <td>2023-01-18T12:07:50</td>\n",
       "      <td>AIMS3, DAM_Underway, CDRmare</td>\n",
       "    </tr>\n",
       "    <tr>\n",
       "      <th>21</th>\n",
       "      <td>doi:10.1594/PANGAEA.956371</td>\n",
       "      <td>2023-03-13T10:58:01</td>\n",
       "      <td>Test-ArtUp, AQUACOSM, Ocean-artUp, CDRmare</td>\n",
       "    </tr>\n",
       "    <tr>\n",
       "      <th>22</th>\n",
       "      <td>doi:10.1594/PANGAEA.954852</td>\n",
       "      <td>2023-01-25T13:45:36</td>\n",
       "      <td>Test-ArtUp, AQUACOSM, Ocean-artUp, CDRmare</td>\n",
       "    </tr>\n",
       "    <tr>\n",
       "      <th>23</th>\n",
       "      <td>doi:10.1594/PANGAEA.963541</td>\n",
       "      <td>2023-11-29T13:13:28</td>\n",
       "      <td>Test-ArtUp, AQUACOSM, Ocean-artUp, CDRmare</td>\n",
       "    </tr>\n",
       "    <tr>\n",
       "      <th>24</th>\n",
       "      <td>doi:10.1594/PANGAEA.963589</td>\n",
       "      <td>2023-11-29T17:06:01</td>\n",
       "      <td>Test-ArtUp, AQUACOSM, Ocean-artUp, CDRmare</td>\n",
       "    </tr>\n",
       "    <tr>\n",
       "      <th>25</th>\n",
       "      <td>doi:10.1594/PANGAEA.954531</td>\n",
       "      <td>2023-01-18T12:17:10</td>\n",
       "      <td>AIMS3, DAM_Underway, CDRmare</td>\n",
       "    </tr>\n",
       "    <tr>\n",
       "      <th>26</th>\n",
       "      <td>doi:10.1594/PANGAEA.962782</td>\n",
       "      <td>2023-11-28T14:27:36</td>\n",
       "      <td>Test-ArtUp, Ocean-artUp, CDRmare</td>\n",
       "    </tr>\n",
       "    <tr>\n",
       "      <th>27</th>\n",
       "      <td>doi:10.1594/PANGAEA.951417</td>\n",
       "      <td>2022-12-01T08:56:26</td>\n",
       "      <td>Test-ArtUp, AQUACOSM, Ocean-artUp, CDRmare</td>\n",
       "    </tr>\n",
       "    <tr>\n",
       "      <th>28</th>\n",
       "      <td>doi:10.1594/PANGAEA.963468</td>\n",
       "      <td>2023-11-29T10:08:47</td>\n",
       "      <td>Test-ArtUp, AQUACOSM, Ocean-artUp, CDRmare</td>\n",
       "    </tr>\n",
       "    <tr>\n",
       "      <th>29</th>\n",
       "      <td>doi:10.1594/PANGAEA.963590</td>\n",
       "      <td>2023-12-04T10:05:00</td>\n",
       "      <td>Test-ArtUp, AQUACOSM, Ocean-artUp, CDRmare</td>\n",
       "    </tr>\n",
       "  </tbody>\n",
       "</table>\n",
       "</div>"
      ],
      "text/plain": [
       "                           DOI     Publication_Date  \\\n",
       "0   doi:10.1594/PANGAEA.964092  2023-12-12T12:33:11   \n",
       "1   doi:10.1594/PANGAEA.964072  2023-12-11T13:54:47   \n",
       "2   doi:10.1594/PANGAEA.964096  2023-12-12T12:37:50   \n",
       "3   doi:10.1594/PANGAEA.964090  2023-12-12T12:30:50   \n",
       "4   doi:10.1594/PANGAEA.964089  2023-12-12T12:11:33   \n",
       "5   doi:10.1594/PANGAEA.964095  2023-12-12T12:36:45   \n",
       "6   doi:10.1594/PANGAEA.964076  2023-12-11T14:31:38   \n",
       "7   doi:10.1594/PANGAEA.964078  2023-12-11T15:04:08   \n",
       "8   doi:10.1594/PANGAEA.964094  2023-12-12T12:35:41   \n",
       "9   doi:10.1594/PANGAEA.964097  2023-12-12T12:38:47   \n",
       "10  doi:10.1594/PANGAEA.964086  2023-12-19T13:33:30   \n",
       "11  doi:10.1594/PANGAEA.964083  2023-12-12T07:44:05   \n",
       "12  doi:10.1594/PANGAEA.964093  2023-12-12T12:34:21   \n",
       "13  doi:10.1594/PANGAEA.964091  2023-12-12T12:32:06   \n",
       "14  doi:10.1594/PANGAEA.964069  2023-12-11T13:19:55   \n",
       "15  doi:10.1594/PANGAEA.963428  2023-11-24T12:52:17   \n",
       "16  doi:10.1594/PANGAEA.963781  2023-11-28T13:07:48   \n",
       "17  doi:10.1594/PANGAEA.951200  2022-11-22T14:36:29   \n",
       "18  doi:10.1594/PANGAEA.963467  2023-11-28T10:45:11   \n",
       "19  doi:10.1594/PANGAEA.963462  2023-11-28T16:39:30   \n",
       "20  doi:10.1594/PANGAEA.954527  2023-01-18T12:07:50   \n",
       "21  doi:10.1594/PANGAEA.956371  2023-03-13T10:58:01   \n",
       "22  doi:10.1594/PANGAEA.954852  2023-01-25T13:45:36   \n",
       "23  doi:10.1594/PANGAEA.963541  2023-11-29T13:13:28   \n",
       "24  doi:10.1594/PANGAEA.963589  2023-11-29T17:06:01   \n",
       "25  doi:10.1594/PANGAEA.954531  2023-01-18T12:17:10   \n",
       "26  doi:10.1594/PANGAEA.962782  2023-11-28T14:27:36   \n",
       "27  doi:10.1594/PANGAEA.951417  2022-12-01T08:56:26   \n",
       "28  doi:10.1594/PANGAEA.963468  2023-11-29T10:08:47   \n",
       "29  doi:10.1594/PANGAEA.963590  2023-12-04T10:05:00   \n",
       "\n",
       "                                       Project  \n",
       "0                               AIMS3, CDRmare  \n",
       "1                               AIMS3, CDRmare  \n",
       "2                               AIMS3, CDRmare  \n",
       "3                               AIMS3, CDRmare  \n",
       "4                               AIMS3, CDRmare  \n",
       "5                               AIMS3, CDRmare  \n",
       "6                               AIMS3, CDRmare  \n",
       "7                               AIMS3, CDRmare  \n",
       "8                               AIMS3, CDRmare  \n",
       "9                               AIMS3, CDRmare  \n",
       "10                             RETAKE, CDRmare  \n",
       "11                              AIMS3, CDRmare  \n",
       "12                              AIMS3, CDRmare  \n",
       "13                              AIMS3, CDRmare  \n",
       "14                              AIMS3, CDRmare  \n",
       "15     Carbostore, RETAKE, AWI_PhyOce, CDRmare  \n",
       "16  Test-ArtUp, AQUACOSM, Ocean-artUp, CDRmare  \n",
       "17            Test-ArtUp, Ocean-artUp, CDRmare  \n",
       "18  Test-ArtUp, AQUACOSM, Ocean-artUp, CDRmare  \n",
       "19  Test-ArtUp, AQUACOSM, Ocean-artUp, CDRmare  \n",
       "20                AIMS3, DAM_Underway, CDRmare  \n",
       "21  Test-ArtUp, AQUACOSM, Ocean-artUp, CDRmare  \n",
       "22  Test-ArtUp, AQUACOSM, Ocean-artUp, CDRmare  \n",
       "23  Test-ArtUp, AQUACOSM, Ocean-artUp, CDRmare  \n",
       "24  Test-ArtUp, AQUACOSM, Ocean-artUp, CDRmare  \n",
       "25                AIMS3, DAM_Underway, CDRmare  \n",
       "26            Test-ArtUp, Ocean-artUp, CDRmare  \n",
       "27  Test-ArtUp, AQUACOSM, Ocean-artUp, CDRmare  \n",
       "28  Test-ArtUp, AQUACOSM, Ocean-artUp, CDRmare  \n",
       "29  Test-ArtUp, AQUACOSM, Ocean-artUp, CDRmare  "
      ]
     },
     "execution_count": 15,
     "metadata": {},
     "output_type": "execute_result"
    }
   ],
   "source": [
    "# access to xml metadata scheme via pangaeapy\n",
    "df_metadata = pd.DataFrame()\n",
    "\n",
    "for ind, doi in enumerate(l_dois):\n",
    "    ds = PanDataSet(doi, include_data=False)\n",
    "    df_metadata.loc[ind,'DOI'] = doi\n",
    "    df_metadata.loc[ind,'Publication_Date'] = ds.date\n",
    "    #print(ds.date)\n",
    "    x = []\n",
    "    for pro in ds.projects:\n",
    "        #print(pro.label)\n",
    "        x.append(pro.label)\n",
    "    df_metadata.loc[ind,'Project'] = ', '.join(x)\n",
    "    \n",
    "df_metadata"
   ]
  },
  {
   "cell_type": "code",
   "execution_count": 16,
   "id": "87b53d89-2af6-4165-959b-87fbb943b5fa",
   "metadata": {
    "tags": []
   },
   "outputs": [],
   "source": [
    "# export metadata table as tab-delimited text-file\n",
    "df_metadata.to_csv('Metadata_datapub_CDRmare.txt', sep = '\\t', index = False)"
   ]
  }
 ],
 "metadata": {
  "kernelspec": {
   "display_name": "Python [conda env:.conda-conda_fh]",
   "language": "python",
   "name": "conda-env-.conda-conda_fh-py"
  },
  "language_info": {
   "codemirror_mode": {
    "name": "ipython",
    "version": 3
   },
   "file_extension": ".py",
   "mimetype": "text/x-python",
   "name": "python",
   "nbconvert_exporter": "python",
   "pygments_lexer": "ipython3",
   "version": "3.12.2"
  }
 },
 "nbformat": 4,
 "nbformat_minor": 5
}
